{
 "cells": [
  {
   "cell_type": "code",
   "execution_count": null,
   "metadata": {
    "vscode": {
     "languageId": "r"
    }
   },
   "outputs": [],
   "source": [
    "# 加载必要的库\n",
    "library(reticulate)\n",
    "library(Seurat)\n",
    "library(zellkonverter)  # 或者使用 SeuratDisk 进行转换\n",
    "\n",
    "# 定义转换函数\n",
    "convert_h5ad_to_rdata <- function(h5ad_file_path, rdata_file_path) {\n",
    "  # 加载 anndata Python 包\n",
    "  anndata <- reticulate::import(\"anndata\", convert = FALSE)\n",
    "  \n",
    "  # 读取 h5ad 文件为 AnnData 对象\n",
    "  adata <- anndata$read_h5ad(h5ad_file_path)\n",
    "  \n",
    "  # 将 AnnData 对象转换为 Seurat 对象（也可以直接转换为 Bioconductor 对象）\n",
    "  seurat_object <- as.Seurat(adata)\n",
    "  \n",
    "  # 保存为 RData 文件\n",
    "  save(seurat_object, file = rdata_file_path)\n",
    "  \n",
    "  message(\"Conversion completed and saved to: \", rdata_file_path)\n",
    "}\n",
    "\n",
    "# 使用示例\n",
    "h5ad_file <- \"example.h5ad\"  # 请替换为你的 h5ad 文件路径\n",
    "rdata_file <- \"example.RData\"  # 请替换为你希望保存的 RData 文件路径\n",
    "\n",
    "convert_h5ad_to_rdata(h5ad_file, rdata_file)"
   ]
  },
  {
   "cell_type": "markdown",
   "metadata": {},
   "source": [
    "## test MMD + Kernel"
   ]
  },
  {
   "cell_type": "code",
   "execution_count": null,
   "metadata": {
    "vscode": {
     "languageId": "r"
    }
   },
   "outputs": [],
   "source": [
    "# 计算核矩阵的函数\n",
    "compute_kernel_matrix <- function(samples1, samples2, sigma = 1.0) {\n",
    "  n <- dim(samples1)[1]\n",
    "  m <- dim(samples2)[1]\n",
    "  K <- matrix(0, nrow = n, ncol = m)\n",
    "  \n",
    "  for (i in 1:n) {\n",
    "    for (j in 1:m) {\n",
    "      # 提取第 i 个和第 j 个样本\n",
    "      x_i <- samples1[i, , ]  # (m x k)\n",
    "      y_j <- samples2[j, , ]  # (m x k)\n",
    "\n",
    "      # 计算 SWD\n",
    "      swd_value <- sliced_wasserstein_distance(x_i, y_j)\n",
    "      \n",
    "      # 计算核值\n",
    "      K[i, j] <- GaussianEMDKernel(swd_value, sigma)\n",
    "    }\n",
    "  }\n",
    "  return(K)\n",
    "}\n",
    "\n",
    "compute_kernel_matrix <- function(samples1, samples2, sigma = 1.0) {\n",
    "  # 计算所有样本对的 SWD 距离矩阵\n",
    "  swd_matrix <- outer(1:nrow(samples1), 1:nrow(samples2), Vectorize(function(i, j) {\n",
    "    sliced_wasserstein_distance(samples1[i, ,], samples2[j, ,])\n",
    "  }))\n",
    "\n",
    "  # 使用矢量化的方式计算核矩阵\n",
    "  K <- exp(-swd_matrix^2 / (2 * sigma^2))\n",
    "  return(K)\n",
    "}\n",
    "\n",
    "# 高斯 EMD 核函数\n",
    "GaussianEMDKernel <- function(swd_value, sigma = 1.0) {\n",
    "  return(exp(-swd_value^2 / (2 * sigma^2)))\n",
    "}"
   ]
  },
  {
   "cell_type": "code",
   "execution_count": 39,
   "metadata": {
    "vscode": {
     "languageId": "r"
    }
   },
   "outputs": [
    {
     "data": {
      "text/html": [
       "<style>\n",
       ".list-inline {list-style: none; margin:0; padding: 0}\n",
       ".list-inline>li {display: inline-block}\n",
       ".list-inline>li:not(:last-child)::after {content: \"\\00b7\"; padding: 0 .5ex}\n",
       "</style>\n",
       "<ol class=list-inline><li>10</li><li>100</li><li>10</li></ol>\n"
      ],
      "text/latex": [
       "\\begin{enumerate*}\n",
       "\\item 10\n",
       "\\item 100\n",
       "\\item 10\n",
       "\\end{enumerate*}\n"
      ],
      "text/markdown": [
       "1. 10\n",
       "2. 100\n",
       "3. 10\n",
       "\n",
       "\n"
      ],
      "text/plain": [
       "[1]  10 100  10"
      ]
     },
     "metadata": {},
     "output_type": "display_data"
    }
   ],
   "source": [
    "dim(samples1)"
   ]
  },
  {
   "cell_type": "code",
   "execution_count": null,
   "metadata": {
    "vscode": {
     "languageId": "r"
    }
   },
   "outputs": [],
   "source": [
    "# 计算 MMD 的函数\n",
    "compute_mmd <- function(samples1, samples2, sigma = 1.0) {\n",
    "  # 计算核矩阵\n",
    "  K_XX <- compute_kernel_matrix(samples1, samples1, sigma)\n",
    "\n",
    "  K_YY <- compute_kernel_matrix(samples2, samples2, sigma)\n",
    "  K_XY <- compute_kernel_matrix(samples1, samples2, sigma)\n",
    "  \n",
    "  # 计算 MMD 的平方\n",
    "  mmd <- mean(K_XX) + mean(K_YY) - 2 * mean(K_XY)\n",
    "  return(mmd)\n",
    "}\n",
    "\n",
    "# 计算核矩阵的函数\n",
    "compute_kernel_matrix <- function(samples1, samples2, sigma = 1.0) {\n",
    "  n <- dim(samples1)[1]\n",
    "  m <- dim(samples2)[1]\n",
    "  K <- matrix(0, nrow = n, ncol = m)\n",
    "  \n",
    "  for (i in 1:n) {\n",
    "    for (j in 1:m) {\n",
    "      # 提取第 i 个和第 j 个样本\n",
    "      x_i <- samples1[i, , ]  # (m x k)\n",
    "      y_j <- samples2[j, , ]  # (m x k)\n",
    "\n",
    "      # 计算 SWD\n",
    "      swd_value <- sliced_wasserstein_distance(x_i, y_j)\n",
    "      \n",
    "      # 计算核值\n",
    "      K[i, j] <- GaussianEMDKernel(swd_value, sigma)\n",
    "    }\n",
    "  }\n",
    "  return(K)\n",
    "}\n",
    "\n",
    "# 计算 Sliced Wasserstein Distance (SWD)\n",
    "sliced_wasserstein_distance <- function(first_samples, second_samples, num_projections = 512, p = 2) {\n",
    "  # 计算样本的维度\n",
    "  dim <- ncol(first_samples)  # dim = D, 每个样本的特征维度\n",
    "  \n",
    "  # 生成随机投影矩阵\n",
    "  projections <- rand_projections(dim, num_projections)  # shape: (num_projections, D)\n",
    "  \n",
    "  # 计算第一个样本集的投影\n",
    "  first_projections <- first_samples %*% t(projections)  # shape: (N1, num_projections)\n",
    "  \n",
    "  # 计算第二个样本集的投影\n",
    "  second_projections <- second_samples %*% t(projections)  # shape: (N2, num_projections)\n",
    "\n",
    "  # 对投影结果按行排序\n",
    "  first_sorted <- t(apply(first_projections, 1, sort))  # shape: (N1, num_projections)\n",
    "  second_sorted <- t(apply(second_projections, 1, sort))  # shape: (N2, num_projections)\n",
    "\n",
    "  # 计算 Wasserstein 距离\n",
    "  wasserstein_distance <- rowMeans(abs(first_sorted - second_sorted)^p)^(1/p)  # shape: (N1 or N2,)\n",
    "\n",
    "  # 返回平均 SWD 值\n",
    "  return(mean(wasserstein_distance))  # 返回标量\n",
    "}\n",
    "\n",
    "# 生成随机投影矩阵\n",
    "rand_projections <- function(dim, num_projections = 1000) {\n",
    "  # 生成形状为 (num_projections, dim) 的随机矩阵\n",
    "  projections <- matrix(rnorm(num_projections * dim), nrow = num_projections)\n",
    "  \n",
    "  # 归一化每个投影向量，使其单位长度\n",
    "  projections <- projections / sqrt(rowSums(projections^2))\n",
    "  return(projections)\n",
    "}\n",
    "\n",
    "# 高斯 EMD 核函数\n",
    "GaussianEMDKernel <- function(swd_value, sigma = 1.0) {\n",
    "  return(exp(-swd_value^2 / (2 * sigma^2)))\n",
    "}\n",
    "\n",
    "# 使用示例\n",
    "set.seed(42)\n",
    "\n",
    "# 生成示例数据\n",
    "N <- 10  # 样本数量\n",
    "m <- 1000   # 样本的第2维度\n",
    "k <- 5   # 样本的第3维度\n",
    "\n",
    "# samples1 和 samples2 是三维数组 (N x m x k)\n",
    "samples1 <- array(rnorm(N * m * k, mean = 0, sd = 1), dim = c(N, m, k))\n",
    "samples2 <- array(rnorm(N * m * k, mean = 1, sd = 1), dim = c(N, m, k))\n",
    "\n",
    "# 初始化高斯 EMD 核的 sigma 值\n",
    "sigma_value <- 1.0\n",
    "\n",
    "# 计算 MMD\n",
    "mmd_value <- compute_mmd(samples1, samples2, sigma = sigma_value)\n",
    "cat(sprintf(\"最终的 MMD 值: %.6f\\n\", mmd_value))"
   ]
  },
  {
   "cell_type": "markdown",
   "metadata": {},
   "source": [
    "---"
   ]
  },
  {
   "cell_type": "code",
   "execution_count": 2,
   "metadata": {
    "vscode": {
     "languageId": "r"
    }
   },
   "outputs": [
    {
     "name": "stderr",
     "output_type": "stream",
     "text": [
      "Warning message in e$fun(obj, substitute(ex), parent.frame(), e$data):\n",
      "\"already exporting variable(s): samples1, samples2\"\n"
     ]
    },
    {
     "ename": "ERROR",
     "evalue": "Error in summary.connection(connection): invalid connection\n",
     "output_type": "error",
     "traceback": [
      "Error in summary.connection(connection): invalid connection\nTraceback:\n",
      "1. compute_kernel_matrix(samples1, samples1, sigma)",
      "2. foreach(idx = 1:nrow(index_list), .combine = \"c\", .export = c(\"samples1\", \n .     \"samples2\", \"sliced_wasserstein_distance\", \"GaussianEMDKernel\", \n .     \"rand_projections\")) %dopar% {\n .     i <- index_list[idx, \"i\"]\n .     j <- index_list[idx, \"j\"]\n .     x_i <- samples1[i, , ]\n .     y_j <- samples2[j, , ]\n .     swd_value <- sliced_wasserstein_distance(x_i, y_j)\n .     GaussianEMDKernel(swd_value, sigma)\n . }",
      "3. e$fun(obj, substitute(ex), parent.frame(), e$data)",
      "4. clusterCall(cl, workerInit, c.expr, exportenv, pkgname, packages, \n .     attachExportEnv)",
      "5. sendCall(cl[[i]], fun, list(...))",
      "6. postNode(con, \"EXEC\", list(fun = fun, args = args, return = return, \n .     tag = tag))",
      "7. sendData(con, list(type = type, data = value, tag = tag))",
      "8. sendData.SOCKnode(con, list(type = type, data = value, tag = tag))",
      "9. serialize(data, node$con)",
      "10. summary(connection)",
      "11. summary.connection(connection)",
      "12. .handleSimpleError(function (cnd) \n  . {\n  .     watcher$capture_plot_and_output()\n  .     cnd <- sanitize_call(cnd)\n  .     watcher$push(cnd)\n  .     switch(on_error, continue = invokeRestart(\"eval_continue\"), \n  .         stop = invokeRestart(\"eval_stop\"), error = invokeRestart(\"eval_error\", \n  .             cnd))\n  . }, \"invalid connection\", base::quote(summary.connection(connection)))"
     ]
    }
   ],
   "source": [
    "library(foreach)\n",
    "library(doParallel)\n",
    "\n",
    "# 计算 MMD 的函数\n",
    "compute_mmd <- function(samples1, samples2, sigma = 1.0) {\n",
    "  K_XX <- compute_kernel_matrix(samples1, samples1, sigma)\n",
    "  K_YY <- compute_kernel_matrix(samples2, samples2, sigma)\n",
    "  K_XY <- compute_kernel_matrix(samples1, samples2, sigma)\n",
    "  mmd <- mean(K_XX) + mean(K_YY) - 2 * mean(K_XY)\n",
    "  return(mmd)\n",
    "}\n",
    "\n",
    "compute_kernel_matrix <- function(samples1, samples2, sigma = 1.0) {\n",
    "  n <- dim(samples1)[1]\n",
    "  m <- dim(samples2)[1]\n",
    "  \n",
    "  index_list <- expand.grid(i = 1:n, j = 1:m)\n",
    "  \n",
    "  # 并行计算核矩阵元素\n",
    "  K_values <- foreach(idx = 1:nrow(index_list), .combine = 'c', .export = c(\"samples1\", \"samples2\", \"sliced_wasserstein_distance\", \"GaussianEMDKernel\", \"rand_projections\")) %dopar% {\n",
    "    i <- index_list[idx, \"i\"]\n",
    "    j <- index_list[idx, \"j\"]\n",
    "    x_i <- samples1[i, , ]\n",
    "    y_j <- samples2[j, , ]\n",
    "    swd_value <- sliced_wasserstein_distance(x_i, y_j)\n",
    "    GaussianEMDKernel(swd_value, sigma)\n",
    "  }\n",
    "  \n",
    "  # 组装核矩阵\n",
    "  K <- matrix(K_values, nrow = n, ncol = m, byrow = TRUE)\n",
    "  return(K)\n",
    "}\n",
    "\n",
    "sliced_wasserstein_distance <- function(first_samples, second_samples, num_projections = 512, p = 2) {\n",
    "  dim <- ncol(first_samples)\n",
    "  \n",
    "  # 生成随机投影矩阵\n",
    "  projections <- rand_projections(dim, num_projections)  # (num_projections, dim)\n",
    "  \n",
    "  # 计算投影\n",
    "  first_projections <- first_samples %*% t(projections)  # (m, num_projections)\n",
    "  second_projections <- second_samples %*% t(projections)  # (m, num_projections)\n",
    "  \n",
    "  # 对每个投影维度排序\n",
    "  first_sorted <- apply(first_projections, 2, sort)\n",
    "  second_sorted <- apply(second_projections, 2, sort)\n",
    "  \n",
    "  # 计算 Wasserstein 距离\n",
    "  wasserstein_distance <- (colMeans(abs(first_sorted - second_sorted)^p))^(1/p)\n",
    "  \n",
    "  # 返回平均 SWD 值\n",
    "  return(mean(wasserstein_distance))\n",
    "}\n",
    "\n",
    "\n",
    "# 生成随机投影矩阵\n",
    "rand_projections <- function(dim, num_projections = 512) {\n",
    "  # 生成形状为 (num_projections, dim) 的随机矩阵\n",
    "  projections <- matrix(rnorm(num_projections * dim), nrow = num_projections)\n",
    "  \n",
    "  # 归一化每个投影向量，使其单位长度\n",
    "  projections <- projections / sqrt(rowSums(projections^2))\n",
    "  return(projections)\n",
    "}\n",
    "\n",
    "# 高斯 EMD 核函数\n",
    "GaussianEMDKernel <- function(swd_value, sigma = 1.0) {\n",
    "  return(exp(-swd_value^2 / (2 * sigma^2)))\n",
    "}\n",
    "\n",
    "# 使用示例\n",
    "set.seed(42)\n",
    "\n",
    "# 生成示例数据\n",
    "N <- 5  # 样本数量\n",
    "m <- 10000   # 样本的第2维度\n",
    "k <- 5   # 样本的第3维度\n",
    "\n",
    "# samples1 和 samples2 是三维数组 (N x m x k)\n",
    "samples1 <- array(rnorm(N * m * k, mean = 0, sd = 1), dim = c(N, m, k))\n",
    "samples2 <- array(rnorm(N * m * k, mean = 1, sd = 1), dim = c(N, m, k))\n",
    "\n",
    "# 初始化高斯 EMD 核的 sigma 值\n",
    "sigma_value <- 1.0\n",
    "\n",
    "# 计算 MMD\n",
    "mmd_value <- compute_mmd(samples1, samples2, sigma = sigma_value)\n",
    "cat(sprintf(\"最终的 MMD 值: %.6f\\n\", mmd_value))"
   ]
  },
  {
   "cell_type": "code",
   "execution_count": null,
   "metadata": {
    "vscode": {
     "languageId": "r"
    }
   },
   "outputs": [],
   "source": [
    "compute_kernel_matrix <- function(samples1, samples2, sigma = 1.0) {\n",
    "  n <- dim(samples1)[1]\n",
    "  m <- dim(samples2)[1]\n",
    "  \n",
    "  # 并行计算核矩阵元素\n",
    "  K_values <- foreach(i = 1:n, .combine = 'rbind', .export = c(\"samples1\", \"samples2\", \"sliced_wasserstein_distance\", \"GaussianEMDKernel\", \"rand_projections\")) %dopar% {\n",
    "    K_row <- numeric(m)\n",
    "    for (j in 1:m) {\n",
    "      x_i <- samples1[i, , ]\n",
    "      y_j <- samples2[j, , ]\n",
    "      swd_value <- sliced_wasserstein_distance(x_i, y_j)\n",
    "      K_row[j] <- GaussianEMDKernel(swd_value, sigma)\n",
    "    }\n",
    "    K_row\n",
    "  }\n",
    "  \n",
    "  # 组装核矩阵\n",
    "  K <- t(K_values)\n",
    "  return(K)\n",
    "}"
   ]
  },
  {
   "cell_type": "code",
   "execution_count": 3,
   "metadata": {
    "vscode": {
     "languageId": "r"
    }
   },
   "outputs": [
    {
     "name": "stdout",
     "output_type": "stream",
     "text": [
      "最终的 MMD 值: 0.628192\n"
     ]
    }
   ],
   "source": [
    "library(foreach)\n",
    "library(doParallel)\n",
    "\n",
    "# 计算 MMD 的函数\n",
    "compute_mmd <- function(samples1, samples2, sigma = 1.0) {\n",
    "  K_XX <- compute_kernel_matrix(samples1, samples1, sigma)\n",
    "  K_YY <- compute_kernel_matrix(samples2, samples2, sigma)\n",
    "  K_XY <- compute_kernel_matrix(samples1, samples2, sigma)\n",
    "  mmd <- mean(K_XX) + mean(K_YY) - 2 * mean(K_XY)\n",
    "  return(mmd)\n",
    "}\n",
    "\n",
    "compute_kernel_matrix <- function(samples1, samples2, sigma = 1.0) {\n",
    "  n <- dim(samples1)[1]\n",
    "  m <- dim(samples2)[1]\n",
    "  \n",
    "  # 并行计算核矩阵元素\n",
    "  K_values <- foreach(i = 1:n, .combine = 'rbind', .export = c(\"sliced_wasserstein_distance\", \"GaussianEMDKernel\", \"rand_projections\")) %dopar% {\n",
    "    K_row <- numeric(m)\n",
    "    for (j in 1:m) {\n",
    "      x_i <- samples1[i, , ]\n",
    "      y_j <- samples2[j, , ]\n",
    "      swd_value <- sliced_wasserstein_distance(x_i, y_j)\n",
    "      K_row[j] <- GaussianEMDKernel(swd_value, sigma)\n",
    "    }\n",
    "    K_row\n",
    "  }\n",
    "  \n",
    "  # 组装核矩阵\n",
    "  K <- t(K_values)\n",
    "  return(K)\n",
    "}\n",
    "\n",
    "sliced_wasserstein_distance <- function(first_samples, second_samples, num_projections = 512, p = 2) {\n",
    "  dim <- ncol(first_samples)\n",
    "  \n",
    "  # 生成随机投影矩阵\n",
    "  projections <- rand_projections(dim, num_projections)  # (num_projections, dim)\n",
    "  \n",
    "  # 计算投影\n",
    "  first_projections <- first_samples %*% t(projections)  # (m, num_projections)\n",
    "  second_projections <- second_samples %*% t(projections)  # (m, num_projections)\n",
    "  \n",
    "  # 对每个投影维度排序\n",
    "  first_sorted <- apply(first_projections, 2, sort)\n",
    "  second_sorted <- apply(second_projections, 2, sort)\n",
    "  \n",
    "  # 计算 Wasserstein 距离\n",
    "  wasserstein_distance <- (colMeans(abs(first_sorted - second_sorted)^p))^(1/p)\n",
    "  \n",
    "  # 返回平均 SWD 值\n",
    "  return(mean(wasserstein_distance))\n",
    "}\n",
    "\n",
    "# 生成随机投影矩阵\n",
    "rand_projections <- function(dim, num_projections = 512 , seed = 42) {\n",
    "  \n",
    "  set.seed(seed)\n",
    "  \n",
    "  # 生成形状为 (num_projections, dim) 的随机矩阵\n",
    "  projections <- matrix(rnorm(num_projections * dim), nrow = num_projections)\n",
    "  \n",
    "  # 归一化每个投影向量，使其单位长度\n",
    "  projections <- projections / sqrt(rowSums(projections^2))\n",
    "  return(projections)\n",
    "}\n",
    "\n",
    "# 高斯 EMD 核函数\n",
    "GaussianEMDKernel <- function(swd_value, sigma = 1.0) {\n",
    "  return(exp(-swd_value^2 / (2 * sigma^2)))\n",
    "}\n",
    "\n",
    "# 使用示例\n",
    "set.seed(42)\n",
    "\n",
    "# 生成示例数据\n",
    "N <- 5  # 样本数量\n",
    "m <- 10000   # 样本的第2维度\n",
    "k <- 5   # 样本的第3维度\n",
    "\n",
    "# samples1 和 samples2 是三维数组 (N x m x k)\n",
    "samples1 <- array(rnorm(N * m * k, mean = 0, sd = 1), dim = c(N, m, k))\n",
    "samples2 <- array(rnorm(N * m * k, mean = 1, sd = 1), dim = c(N, m, k))\n",
    "\n",
    "# 初始化高斯 EMD 核的 sigma 值\n",
    "sigma_value <- 1.0\n",
    "\n",
    "# 注册并行计算\n",
    "cl <- makeCluster(detectCores() - 1)\n",
    "registerDoParallel(cl)\n",
    "\n",
    "# 计算 MMD\n",
    "mmd_value <- compute_mmd(samples1, samples2, sigma = sigma_value)\n",
    "cat(sprintf(\"最终的 MMD 值: %.6f\\n\", mmd_value))\n",
    "\n",
    "# 停止并行计算\n",
    "stopCluster(cl)"
   ]
  },
  {
   "cell_type": "code",
   "execution_count": 1,
   "metadata": {
    "vscode": {
     "languageId": "r"
    }
   },
   "outputs": [],
   "source": [
    "# 生成示例数据\n",
    "\n",
    "m <- 10000   # 样本的第2维度\n",
    "k <- 5   # 样本的第3维度\n",
    "\n",
    "# samples1 和 samples2 是三维数组 (N x m x k)\n",
    "samples1 <- array(rnorm(m * k, mean = 0, sd = 1), dim = c(m, k))\n",
    "samples2 <- array(rnorm(m * k, mean = 1, sd = 1), dim = c(m, k))"
   ]
  },
  {
   "cell_type": "code",
   "execution_count": null,
   "metadata": {
    "vscode": {
     "languageId": "r"
    }
   },
   "outputs": [],
   "source": [
    "density()"
   ]
  },
  {
   "cell_type": "code",
   "execution_count": null,
   "metadata": {
    "vscode": {
     "languageId": "r"
    }
   },
   "outputs": [
    {
     "name": "stderr",
     "output_type": "stream",
     "text": [
      "Nonparametric Kernel Methods for Mixed Datatypes (version 0.60-17)\n",
      "[vignette(\"np_faq\",package=\"np\") provides answers to frequently asked questions]\n",
      "[vignette(\"np\",package=\"np\") an overview]\n",
      "[vignette(\"entropy_np\",package=\"np\") an overview of entropy-based methods]\n",
      "\n"
     ]
    }
   ],
   "source": [
    "library(np)\n",
    "\n",
    "# npudens\n",
    "\n",
    "kde <- npudens(tdat = samples1 , bw = 0.1)"
   ]
  },
  {
   "cell_type": "code",
   "execution_count": 11,
   "metadata": {
    "vscode": {
     "languageId": "r"
    }
   },
   "outputs": [],
   "source": [
    "library(ks)\n",
    "\n",
    "# ks\n",
    "\n",
    "kde <- kde(x = samples1, h = 0.1 , binned = TRUE)"
   ]
  },
  {
   "cell_type": "code",
   "execution_count": 1,
   "metadata": {
    "vscode": {
     "languageId": "r"
    }
   },
   "outputs": [],
   "source": [
    "from sklearn.neighbors import KernelDensity\n",
    "import numpy\n",
    "\n",
    "m = 10000\n",
    "k = 5\n",
    "samples1 = numpy.random.normal(0, 1, (m, k))\n",
    "kde = KernelDensity(kernel='gaussian', bandwidth=0.2).fit(samples1)"
   ]
  },
  {
   "cell_type": "code",
   "execution_count": 2,
   "metadata": {
    "vscode": {
     "languageId": "r"
    }
   },
   "outputs": [],
   "source": [
    "sampled = kde.sample(10000 ,random_state=42) "
   ]
  },
  {
   "cell_type": "code",
   "execution_count": 12,
   "metadata": {
    "vscode": {
     "languageId": "r"
    }
   },
   "outputs": [
    {
     "name": "stdout",
     "output_type": "stream",
     "text": [
      "[1] 0\n"
     ]
    }
   ],
   "source": [
    "library(transport)\n",
    "\n",
    "dist <- wasserstein1d(c(0, 1, 0, 0) / sum(c(0, 1, 0, 0)), c(1, 0, 0, 0) / sum(c(1, 0, 0, 0)))\n",
    "print(dist)"
   ]
  },
  {
   "cell_type": "code",
   "execution_count": 10,
   "metadata": {
    "vscode": {
     "languageId": "r"
    }
   },
   "outputs": [
    {
     "data": {
      "text/html": [
       "1.75551700360533"
      ],
      "text/latex": [
       "1.75551700360533"
      ],
      "text/markdown": [
       "1.75551700360533"
      ],
      "text/plain": [
       "[1] 1.755517"
      ]
     },
     "metadata": {},
     "output_type": "display_data"
    }
   ],
   "source": [
    "  x <- rnorm(200)\n",
    "  y <- rnorm(150,2)\n",
    "  wasserstein1d(x,y)"
   ]
  },
  {
   "cell_type": "code",
   "execution_count": 5,
   "metadata": {
    "vscode": {
     "languageId": "r"
    }
   },
   "outputs": [
    {
     "name": "stdout",
     "output_type": "stream",
     "text": [
      "Wasserstein距离: 1.0\n"
     ]
    }
   ],
   "source": [
    "import ot\n",
    "import numpy as np\n",
    "\n",
    "# 定义两个一维分布\n",
    "a = np.array([0, 0, 0, 1], dtype=np.float64)  # 这里最后一个元素为1\n",
    "b = np.array([0, 0, 1, 0], dtype=np.float64)  # 这里第三个元素为1\n",
    "\n",
    "# 定义均匀的权重分布\n",
    "a = a / np.sum(a)  # 归一化，使其为概率分布\n",
    "b = b / np.sum(b)  # 归一化，使其为概率分布\n",
    "\n",
    "# 定义距离矩阵（这里是1维的点到点距离）\n",
    "M = ot.dist(np.arange(len(a)).reshape(-1, 1), np.arange(len(b)).reshape(-1, 1))\n",
    "\n",
    "# 计算Wasserstein距离\n",
    "dist = ot.emd2(a, b, M)\n",
    "print(\"Wasserstein距离:\", dist)"
   ]
  },
  {
   "cell_type": "code",
   "execution_count": 1,
   "metadata": {
    "vscode": {
     "languageId": "r"
    }
   },
   "outputs": [
    {
     "name": "stdout",
     "output_type": "stream",
     "text": [
      "[1] \"Wasserstein距离: 1\"\n"
     ]
    }
   ],
   "source": [
    "# 加载 transport 包\n",
    "library(transport)\n",
    "\n",
    "# 定义两个一维分布\n",
    "a <- c(0, 0, 0, 1)\n",
    "b <- c(0, 0, 1, 0)\n",
    "\n",
    "# 归一化分布，使它们成为概率分布\n",
    "a <- a / sum(a)\n",
    "b <- b / sum(b)\n",
    "\n",
    "# 定义一维 Wasserstein 距离的距离矩阵\n",
    "n <- length(a)\n",
    "cost_matrix <- abs(outer(1:n, 1:n, \"-\"))\n",
    "\n",
    "# 计算 Wasserstein 距离\n",
    "dist <- wasserstein(a, b, costm = cost_matrix)\n",
    "print(paste(\"Wasserstein距离:\", dist))\n"
   ]
  },
  {
   "cell_type": "code",
   "execution_count": null,
   "metadata": {
    "vscode": {
     "languageId": "r"
    }
   },
   "outputs": [],
   "source": [
    "# 加载 reticulate 包\n",
    "library(reticulate)\n",
    "\n",
    "# 使用 Python 环境中的 sklearn 和 numpy\n",
    "\n",
    "\n",
    "# 定义函数\n",
    "fit_kde_and_sample <- function(samples, num_samples, sample_times, bandwidth = NULL, random_seed = NULL) {\n",
    "  sklearn <- import(\"sklearn.neighbors\")\n",
    "  np <- import(\"numpy\")\n",
    "  \n",
    "  # 将 R 的数据转换为 Python 格式\n",
    "  samples_py <- r_to_py(as.matrix(samples))\n",
    "  \n",
    "  # 创建并拟合 KDE 模型\n",
    "  kde <- sklearn$KernelDensity(kernel = \"gaussian\", bandwidth = bandwidth)\n",
    "  kde$fit(samples_py)\n",
    "  \n",
    "  # 初始化样本集合\n",
    "  samples_set <- vector(\"list\", sample_times)\n",
    "  \n",
    "  # 采样\n",
    "  for (i in seq_len(sample_times)) {\n",
    "    # 使用 kde$sample() 生成样本\n",
    "    sampled <- kde$sample(n_samples = as.integer(num_samples), random_state = as.integer(random_seed + i))\n",
    "    \n",
    "    # 将样本裁剪在 [0, 1] 范围内\n",
    "    sampled <- np$clip(sampled, 0, 1)\n",
    "    \n",
    "    # 将采样结果转换回 R 格式，并保存\n",
    "    samples_set[[i]] <- py_to_r(sampled)\n",
    "  }\n",
    "  \n",
    "  return(samples_set)\n",
    "}\n",
    "\n",
    "# 示例用法\n",
    "# 假设样本数据如下\n",
    "# 生成示例数据\n",
    "\n",
    "m <- 10000   # 样本的第2维度\n",
    "k <- 4   # 样本的第3维度\n",
    "\n",
    "# samples1 和 samples2 是三维数组 (N x m x k)\n",
    "samples1 <- array(rnorm(m * k, mean = 0, sd = 1), dim = c(m, k))\n",
    "samples2 <- array(rnorm(m * k, mean = 1, sd = 1), dim = c(m, k))\n",
    "\n",
    "\n",
    "num_samples <- 10000                        # 每次采样的数量\n",
    "sample_times <- 5                        # 采样次数\n",
    "bandwidth <- 0.2                         # KDE 带宽\n",
    "random_seed <- 42                        # 随机种子\n",
    "\n",
    "# 调用函数\n",
    "samples_set <- fit_kde_and_sample(samples1, num_samples, sample_times, bandwidth, random_seed)\n",
    "\n",
    "# 查看采样结果\n",
    "print(samples_set)\n"
   ]
  },
  {
   "cell_type": "code",
   "execution_count": null,
   "metadata": {
    "vscode": {
     "languageId": "r"
    }
   },
   "outputs": [],
   "source": [
    "library(ks)\n",
    "\n",
    "# ks\n",
    "\n",
    "kde <- kde(x = samples1, h = 0.1 , binned = TRUE)"
   ]
  },
  {
   "cell_type": "code",
   "execution_count": 6,
   "metadata": {
    "vscode": {
     "languageId": "r"
    }
   },
   "outputs": [
    {
     "data": {
      "image/png": "[encoded data removed]",
      "text/plain": [
       "Plot with title \"\""
      ]
     },
     "metadata": {
      "image/png": {
       "height": 420,
       "width": 420
      }
     },
     "output_type": "display_data"
    }
   ],
   "source": [
    "library(igraph)\n",
    "library(RANN)\n",
    "# 定义 build_graph 函数\n",
    "build_graph <- function(label_data, coordinate_data, num_neighbors = 6) {\n",
    "  nbrs <- nn2(coordinate_data, k = num_neighbors + 1) \n",
    "  sources <- rep(seq_len(nrow(nbrs$nn.idx)), each = num_neighbors)\n",
    "  targets <- as.vector(t(nbrs$nn.idx[, -1]))\n",
    "  edge_list <- c(rbind(sources, targets))\n",
    "\n",
    "  graph <- make_graph(edge_list, directed = FALSE) %>% simplify()\n",
    "\n",
    "  V(graph)$label <- label_data\n",
    "  V(graph)$pos <- split(coordinate_data, seq(nrow(coordinate_data)))\n",
    "\n",
    "  return(graph)\n",
    "}\n",
    "\n",
    "# 创建示例数据\n",
    "set.seed(123)  # 设置随机种子以便重复\n",
    "num_nodes <- 10\n",
    "coordinate_data <- matrix(runif(num_nodes * 2), ncol = 2)  # 生成 10 个随机坐标\n",
    "label_data <- paste(\"Node\", 1:num_nodes)  # 创建节点标签\n",
    "\n",
    "# 调用 build_graph 函数\n",
    "graph <- build_graph(label_data, coordinate_data)\n",
    "\n",
    "# 可视化图形\n",
    "plot(graph, vertex.label = V(graph)$label, vertex.size = 5,\n",
    "     vertex.color = \"lightblue\", edge.color = \"gray\", \n",
    "     layout = layout_with_fr)"
   ]
  },
  {
   "cell_type": "code",
   "execution_count": 10,
   "metadata": {
    "vscode": {
     "languageId": "r"
    }
   },
   "outputs": [
    {
     "data": {
      "text/html": [
       "<style>\n",
       ".list-inline {list-style: none; margin:0; padding: 0}\n",
       ".list-inline>li {display: inline-block}\n",
       ".list-inline>li:not(:last-child)::after {content: \"\\00b7\"; padding: 0 .5ex}\n",
       "</style>\n",
       "<ol class=list-inline><li>4</li><li>3</li><li>2</li></ol>\n"
      ],
      "text/latex": [
       "\\begin{enumerate*}\n",
       "\\item 4\n",
       "\\item 3\n",
       "\\item 2\n",
       "\\end{enumerate*}\n"
      ],
      "text/markdown": [
       "1. 4\n",
       "2. 3\n",
       "3. 2\n",
       "\n",
       "\n"
      ],
      "text/plain": [
       "[1] 4 3 2"
      ]
     },
     "metadata": {},
     "output_type": "display_data"
    }
   ],
   "source": [
    "# 创建一个维度为 (4, 3, 2) 的数组\n",
    "my_array <- array(data = 1:24, dim = c(4, 3, 2))\n",
    "\n",
    "# 查看数组的维度\n",
    "dim(my_array)"
   ]
  },
  {
   "cell_type": "code",
   "execution_count": 22,
   "metadata": {
    "vscode": {
     "languageId": "r"
    }
   },
   "outputs": [],
   "source": [
    "# 写出到csv\n",
    "write.csv(my_array, \"my_array.csv\")"
   ]
  },
  {
   "cell_type": "code",
   "execution_count": 21,
   "metadata": {
    "vscode": {
     "languageId": "r"
    }
   },
   "outputs": [
    {
     "name": "stdout",
     "output_type": "stream",
     "text": [
      ", , 1\n",
      "\n",
      "     [,1] [,2] [,3]\n",
      "[1,]    1    5    9\n",
      "[2,]    2    6   10\n",
      "[3,]    3    7   11\n",
      "[4,]    4    8   12\n",
      "\n",
      ", , 2\n",
      "\n",
      "     [,1] [,2] [,3]\n",
      "[1,]   13   17   21\n",
      "[2,]   14   18   22\n",
      "[3,]   15   19   23\n",
      "[4,]   16   20   24\n",
      "\n"
     ]
    }
   ],
   "source": [
    "print(my_array)"
   ]
  },
  {
   "cell_type": "code",
   "execution_count": 20,
   "metadata": {
    "vscode": {
     "languageId": "r"
    }
   },
   "outputs": [
    {
     "name": "stdout",
     "output_type": "stream",
     "text": [
      "     [,1] [,2] [,3]\n",
      "[1,]    1    5    9\n",
      "[2,]    2    6   10\n",
      "[3,]    3    7   11\n",
      "[4,]    4    8   12\n"
     ]
    }
   ],
   "source": [
    "print(my_array[,,1])"
   ]
  },
  {
   "cell_type": "code",
   "execution_count": 17,
   "metadata": {
    "vscode": {
     "languageId": "r"
    }
   },
   "outputs": [
    {
     "name": "stdout",
     "output_type": "stream",
     "text": [
      "     [,1] [,2]\n",
      "[1,]    1   13\n",
      "[2,]    5   17\n",
      "[3,]    9   21\n"
     ]
    }
   ],
   "source": [
    "print(my_array[1,,])"
   ]
  },
  {
   "cell_type": "code",
   "execution_count": 14,
   "metadata": {
    "vscode": {
     "languageId": "r"
    }
   },
   "outputs": [
    {
     "name": "stdout",
     "output_type": "stream",
     "text": [
      "   A  B\n",
      "1  1  4\n",
      "2  2  5\n",
      "3  3  6\n",
      "4  7 10\n",
      "5  8 11\n",
      "6  9 12\n",
      "7 13 16\n",
      "8 14 17\n",
      "9 15 18\n"
     ]
    }
   ],
   "source": [
    "# 创建一个包含多个数据框的列表\n",
    "samples <- list(\n",
    "  data.frame(A = 1:3, B = 4:6),\n",
    "  data.frame(A = 7:9, B = 10:12),\n",
    "  data.frame(A = 13:15, B = 16:18)\n",
    ")\n",
    "\n",
    "# 使用 do.call 和 rbind 将列表中的数据框按行合并\n",
    "combined_samples <- do.call(rbind, samples)\n",
    "\n",
    "# 查看合并后的数据框\n",
    "print(combined_samples)"
   ]
  },
  {
   "cell_type": "code",
   "execution_count": 15,
   "metadata": {
    "vscode": {
     "languageId": "r"
    }
   },
   "outputs": [
    {
     "data": {
      "text/html": [
       "<table class=\"dataframe\">\n",
       "<caption>A data.frame: 3 × 2</caption>\n",
       "<thead>\n",
       "\t<tr><th scope=col>A</th><th scope=col>B</th></tr>\n",
       "\t<tr><th scope=col>&lt;int&gt;</th><th scope=col>&lt;int&gt;</th></tr>\n",
       "</thead>\n",
       "<tbody>\n",
       "\t<tr><td>1</td><td>4</td></tr>\n",
       "\t<tr><td>2</td><td>5</td></tr>\n",
       "\t<tr><td>3</td><td>6</td></tr>\n",
       "</tbody>\n",
       "</table>\n"
      ],
      "text/latex": [
       "A data.frame: 3 × 2\n",
       "\\begin{tabular}{ll}\n",
       " A & B\\\\\n",
       " <int> & <int>\\\\\n",
       "\\hline\n",
       "\t 1 & 4\\\\\n",
       "\t 2 & 5\\\\\n",
       "\t 3 & 6\\\\\n",
       "\\end{tabular}\n"
      ],
      "text/markdown": [
       "\n",
       "A data.frame: 3 × 2\n",
       "\n",
       "| A &lt;int&gt; | B &lt;int&gt; |\n",
       "|---|---|\n",
       "| 1 | 4 |\n",
       "| 2 | 5 |\n",
       "| 3 | 6 |\n",
       "\n"
      ],
      "text/plain": [
       "  A B\n",
       "1 1 4\n",
       "2 2 5\n",
       "3 3 6"
      ]
     },
     "metadata": {},
     "output_type": "display_data"
    }
   ],
   "source": [
    "data.frame(A = 1:3, B = 4:6)"
   ]
  },
  {
   "cell_type": "code",
   "execution_count": 16,
   "metadata": {
    "vscode": {
     "languageId": "r"
    }
   },
   "outputs": [
    {
     "data": {
      "text/html": [
       "<table class=\"dataframe\">\n",
       "<caption>A data.frame: 3 × 2</caption>\n",
       "<thead>\n",
       "\t<tr><th scope=col>A</th><th scope=col>B</th></tr>\n",
       "\t<tr><th scope=col>&lt;int&gt;</th><th scope=col>&lt;int&gt;</th></tr>\n",
       "</thead>\n",
       "<tbody>\n",
       "\t<tr><td>7</td><td>10</td></tr>\n",
       "\t<tr><td>8</td><td>11</td></tr>\n",
       "\t<tr><td>9</td><td>12</td></tr>\n",
       "</tbody>\n",
       "</table>\n"
      ],
      "text/latex": [
       "A data.frame: 3 × 2\n",
       "\\begin{tabular}{ll}\n",
       " A & B\\\\\n",
       " <int> & <int>\\\\\n",
       "\\hline\n",
       "\t 7 & 10\\\\\n",
       "\t 8 & 11\\\\\n",
       "\t 9 & 12\\\\\n",
       "\\end{tabular}\n"
      ],
      "text/markdown": [
       "\n",
       "A data.frame: 3 × 2\n",
       "\n",
       "| A &lt;int&gt; | B &lt;int&gt; |\n",
       "|---|---|\n",
       "| 7 | 10 |\n",
       "| 8 | 11 |\n",
       "| 9 | 12 |\n",
       "\n"
      ],
      "text/plain": [
       "  A B \n",
       "1 7 10\n",
       "2 8 11\n",
       "3 9 12"
      ]
     },
     "metadata": {},
     "output_type": "display_data"
    }
   ],
   "source": [
    "data.frame(A = 7:9, B = 10:12)"
   ]
  },
  {
   "cell_type": "code",
   "execution_count": null,
   "metadata": {
    "vscode": {
     "languageId": "r"
    }
   },
   "outputs": [],
   "source": [
    "sliced_wasserstein_distance <- function(first_samples, second_samples, num_projections = 512, p = 2) {\n",
    "  dim <- ncol(first_samples)\n",
    "  \n",
    "  # rand projection matrix\n",
    "  projections <- rand_projections(dim, num_projections)  # (num_projections, dim)\n",
    "  \n",
    "  # 计算投影\n",
    "  first_projections <- first_samples %*% t(projections)  # (m, num_projections)\n",
    "  second_projections <- second_samples %*% t(projections)  # (m, num_projections)\n",
    "  \n",
    "  # 对每个投影维度排序\n",
    "  first_sorted <- apply(first_projections, 2, sort)\n",
    "  second_sorted <- apply(second_projections, 2, sort)\n",
    "  \n",
    "  # 计算 Wasserstein 距离\n",
    "  wasserstein_distance <- (colMeans(abs(first_sorted - second_sorted)^p))^(1/p)\n",
    "  \n",
    "  # 返回平均 SWD 值\n",
    "  return(mean(wasserstein_distance))\n",
    "}\n",
    "\n",
    "# 生成随机投影矩阵\n",
    "rand_projections <- function(dim, num_projections = 512 , seed = 42) {\n",
    "  set.seed(seed)\n",
    "  # 生成形状为 (num_projections, dim) 的随机矩阵\n",
    "  projections <- matrix(rnorm(num_projections * dim), nrow = num_projections)\n",
    "  \n",
    "  # 归一化每个投影向量，使其单位长度\n",
    "  projections <- projections / sqrt(rowSums(projections^2))\n",
    "  return(projections)\n",
    "}\n",
    "\n",
    "first_samples <- array(rnorm(1000 * 5), dim = c(1000, 5))\n",
    "second_samples <- array(rnorm(1000 * 5), dim = c(1000, 5))"
   ]
  }
 ],
 "metadata": {
  "kernelspec": {
   "display_name": "R4.3.3",
   "language": "R",
   "name": "r4.3.3"
  },
  "language_info": {
   "codemirror_mode": "r",
   "file_extension": ".r",
   "mimetype": "text/x-r-source",
   "name": "R",
   "pygments_lexer": "r",
   "version": "4.3.3"
  }
 },
 "nbformat": 4,
 "nbformat_minor": 2
}
