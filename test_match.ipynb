{
 "cells": [
  {
   "cell_type": "code",
   "execution_count": 9,
   "metadata": {
    "vscode": {
     "languageId": "r"
    }
   },
   "outputs": [
    {
     "name": "stderr",
     "output_type": "stream",
     "text": [
      "Loading required package: clue\n",
      "\n",
      "Warning message in library(package, lib.loc = lib.loc, character.only = TRUE, logical.return = TRUE, :\n",
      "\"there is no package called 'clue'\"\n",
      "Installing package into 'C:/Users/11146/AppData/Local/R/win-library/4.3'\n",
      "(as 'lib' is unspecified)\n",
      "\n"
     ]
    },
    {
     "name": "stdout",
     "output_type": "stream",
     "text": [
      "package 'clue' successfully unpacked and MD5 sums checked\n",
      "\n",
      "The downloaded binary packages are in\n",
      "\tC:\\Users\\11146\\AppData\\Local\\Temp\\RtmpOeAhk9\\downloaded_packages\n"
     ]
    }
   ],
   "source": [
    "if (!require(clue)) {\n",
    "  install.packages(\"clue\")\n",
    "}\n",
    "library(clue)\n",
    "\n",
    "# 定义 Jaccard 系数计算函数\n",
    "jaccard_coefficient <- function(cluster1, cluster2) {\n",
    "  if (length(cluster1) > 0 && length(cluster2) > 0) {\n",
    "    return(length(intersect(cluster1, cluster2)) / length(union(cluster1, cluster2)))\n",
    "  }\n",
    "  return(0)\n",
    "}\n",
    "\n",
    "# 定义获取簇的函数\n",
    "get_clusters <- function(labels) {\n",
    "  clusters <- split(seq_along(labels), labels)\n",
    "  return(list(values = lapply(clusters, as.integer), keys = names(clusters)))\n",
    "}\n",
    "\n",
    "# 定义簇匹配函数\n",
    "match_clusters <- function(predicted_clusters, true_clusters) {\n",
    "  jaccard_matrix <- outer(\n",
    "    seq_along(predicted_clusters),\n",
    "    seq_along(true_clusters),\n",
    "    Vectorize(function(i, j) jaccard_coefficient(predicted_clusters[[i]], true_clusters[[j]]))\n",
    "  )\n",
    "  matching <- solve_LSAP(1 - jaccard_matrix)\n",
    "  return(as.list(matching))\n",
    "}\n",
    "\n",
    "# 定义标签重新分配函数\n",
    "reassign_labels <- function(pred_labels, matching, pred_clusters, true_keys) {\n",
    "  adjusted_labels <- pred_labels\n",
    "  for (i in seq_along(matching)) {\n",
    "    true_label <- true_keys[[matching[[i]]]]\n",
    "    adjusted_labels[pred_clusters[[i]]] <- true_label\n",
    "  }\n",
    "  return(adjusted_labels)\n",
    "}\n",
    "\n",
    "# 定义匹配函数\n",
    "matching_function <- function(true_labels, pred_labels) {\n",
    "  true_clusters <- get_clusters(true_labels)\n",
    "  pred_clusters <- get_clusters(pred_labels)\n",
    "  \n",
    "  matching <- match_clusters(pred_clusters$values, true_clusters$values)\n",
    "  adjusted_labels <- reassign_labels(pred_labels, matching, pred_clusters$values, true_clusters$keys)\n",
    "  \n",
    "  return(adjusted_labels)\n",
    "}"
   ]
  }
 ],
 "metadata": {
  "kernelspec": {
   "display_name": "R4.3.3",
   "language": "R",
   "name": "r4.3.3"
  },
  "language_info": {
   "codemirror_mode": "r",
   "file_extension": ".r",
   "mimetype": "text/x-r-source",
   "name": "R",
   "pygments_lexer": "r",
   "version": "4.3.3"
  }
 },
 "nbformat": 4,
 "nbformat_minor": 2
}
